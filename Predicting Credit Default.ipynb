{
 "cells": [
  {
   "cell_type": "markdown",
   "metadata": {},
   "source": [
    "# Predicting Credit Card Default"
   ]
  },
  {
   "cell_type": "markdown",
   "metadata": {},
   "source": [
    "### Data Set Information:\n",
    "\n",
    "**Here I have taken the datasets at the case of customers default payments in Taiwan**\n",
    "\n",
    "### Features description:\n",
    "\n",
    "- LIMIT_BAL: Amount of the given credit (NT dollar): it includes both the individual consumer credit and his/her family (supplementary) credit. \n",
    "- SEX: Gender (1 = male; 2 = female). \n",
    "- EDUCATION: Education (1 = graduate school; 2 = university; 3 = high school; 4 = others). \n",
    "- MARRIAGE: Marital status (1 = married; 2 = single; 3 = others). \n",
    "- AGE: Age (year). \n",
    "- PAY_0 - PAY_6: History of past payment. We tracked the past monthly payment records (from April to September, 2005) as follows: 0 = the repayment status in September, 2005; 1 = the repayment status in August, 2005; . . .; 6 = the repayment status in April, 2005. The measurement scale for the repayment status is: -1 = pay duly; 1 = payment delay for one month; 2 = payment delay for two months; . . .; 8 = payment delay for eight months; 9 = payment delay for nine months and above.\n",
    "- BILL_AMT1-BILL_AMT6: Amount of bill statement (NT dollar). X12 = amount of bill statement in September, 2005; X13 = amount of bill statement in August, 2005; . . .; X17 = amount of bill statement in April, 2005. \n",
    "- PAY_AMT1-PAY_AMT6: Amount of previous payment (NT dollar).\n",
    "- default payment next month: **positive class: default | negative class: pay**"
   ]
  },
  {
   "cell_type": "code",
   "execution_count": 1,
   "metadata": {},
   "outputs": [],
   "source": [
    "# Importing useful libraries\n",
    "import numpy as np\n",
    "import matplotlib.pyplot as plt\n",
    "import pandas as pd\n",
    "%matplotlib inline"
   ]
  },
  {
   "cell_type": "markdown",
   "metadata": {},
   "source": [
    "## 0. Data Preparation"
   ]
  },
  {
   "cell_type": "code",
   "execution_count": 2,
   "metadata": {},
   "outputs": [],
   "source": [
    "default = pd.read_csv('../data/credit_card_default.csv', index_col=\"ID\")\n",
    "default.rename(columns=lambda x: x.lower(), inplace=True)\n",
    "# Base values: female, other_education, not_married\n",
    "default['grad_school'] = (default['education'] == 1).astype('int')\n",
    "default['university'] = (default['education'] == 2).astype('int')\n",
    "default['high_school'] = (default['education'] == 3).astype('int')\n",
    "default.drop('education', axis=1, inplace=True)\n",
    "\n",
    "default['male'] = (default['sex']==1).astype('int')\n",
    "default.drop('sex', axis=1, inplace=True)\n",
    "\n",
    "default['married'] = (default['marriage'] == 1).astype('int')\n",
    "default.drop('marriage', axis=1, inplace=True)\n",
    "\n",
    "# For pay features if the <= 0 then it means it was not delayed\n",
    "pay_features = ['pay_0','pay_2','pay_3','pay_4','pay_5','pay_6']\n",
    "for p in pay_features:\n",
    "    default.loc[default[p]<=0, p] = 0\n",
    "\n",
    "default.rename(columns={'default payment next month':'default'}, inplace=True) "
   ]
  },
  {
   "cell_type": "markdown",
   "metadata": {},
   "source": [
    "# Building models using all features"
   ]
  },
  {
   "cell_type": "code",
   "execution_count": 3,
   "metadata": {},
   "outputs": [],
   "source": [
    "from sklearn.model_selection import train_test_split\n",
    "from sklearn.metrics import accuracy_score, precision_score, recall_score, confusion_matrix, precision_recall_curve\n",
    "from sklearn.preprocessing import RobustScaler"
   ]
  },
  {
   "cell_type": "code",
   "execution_count": 4,
   "metadata": {
    "scrolled": true
   },
   "outputs": [],
   "source": [
    "target_name = 'default'\n",
    "X = default.drop('default', axis=1)\n",
    "robust_scaler = RobustScaler()\n",
    "X = robust_scaler.fit_transform(X)\n",
    "y = default[target_name]\n",
    "X_train, X_test, y_train, y_test = train_test_split(X, y, test_size=0.15, random_state=123, stratify=y)"
   ]
  },
  {
   "cell_type": "code",
   "execution_count": 5,
   "metadata": {},
   "outputs": [],
   "source": [
    "def CMatrix(CM, labels=['pay','default']):\n",
    "    df = pd.DataFrame(data=CM, index=labels, columns=labels)\n",
    "    df.index.name='TRUE'\n",
    "    df.columns.name='PREDICTION'\n",
    "    df.loc['Total'] = df.sum()\n",
    "    df['Total'] = df.sum(axis=1)\n",
    "    return df"
   ]
  },
  {
   "cell_type": "markdown",
   "metadata": {},
   "source": [
    "### Preparing a DataFrame for model analysis"
   ]
  },
  {
   "cell_type": "code",
   "execution_count": 6,
   "metadata": {},
   "outputs": [],
   "source": [
    "# Data frame for evaluation metrics\n",
    "metrics = pd.DataFrame(index=['accuracy', 'precision', 'recall'], \n",
    "                      columns=['NULL','LogisticReg', 'ClassTree', 'NaiveBayes'])"
   ]
  },
  {
   "cell_type": "markdown",
   "metadata": {},
   "source": [
    "- **Accuracy**: the proportion of the total number of predictions that are correct\n",
    "- **Precision**: the proportion of positive predictions that are actually correct\n",
    "- **Recall**: the proportion of positive observed values correctly predicted as such\n",
    "\n",
    "**In this application:**\n",
    "- **Accuracy**: Overall how often the model predicts correctly defaulters and non-defaulters\n",
    "- **Precision**: When the model predicts **default**: how often is correct?\n",
    "- **Recall**: The proportion of **actual defalters** that the model will correctly predict as such\n",
    "\n",
    "#### Which metric should I use?\n",
    "\n",
    "- **False Positive**: A person who will pay predicted as defaulter\n",
    "- **False Negative**: A person who default predicted as payer\n",
    "\n",
    "#### False negatives are worse => look for a better recall"
   ]
  },
  {
   "cell_type": "markdown",
   "metadata": {},
   "source": [
    "## The Null model: always predict the most common category"
   ]
  },
  {
   "cell_type": "code",
   "execution_count": 7,
   "metadata": {
    "scrolled": true
   },
   "outputs": [
    {
     "name": "stderr",
     "output_type": "stream",
     "text": [
      "C:\\ProgramData\\Anaconda3\\lib\\site-packages\\sklearn\\metrics\\classification.py:1143: UndefinedMetricWarning: Precision is ill-defined and being set to 0.0 due to no predicted samples.\n",
      "  'precision', 'predicted', average, warn_for)\n"
     ]
    },
    {
     "data": {
      "text/html": [
       "<div>\n",
       "<style scoped>\n",
       "    .dataframe tbody tr th:only-of-type {\n",
       "        vertical-align: middle;\n",
       "    }\n",
       "\n",
       "    .dataframe tbody tr th {\n",
       "        vertical-align: top;\n",
       "    }\n",
       "\n",
       "    .dataframe thead th {\n",
       "        text-align: right;\n",
       "    }\n",
       "</style>\n",
       "<table border=\"1\" class=\"dataframe\">\n",
       "  <thead>\n",
       "    <tr style=\"text-align: right;\">\n",
       "      <th>PREDICTION</th>\n",
       "      <th>pay</th>\n",
       "      <th>default</th>\n",
       "      <th>Total</th>\n",
       "    </tr>\n",
       "    <tr>\n",
       "      <th>TRUE</th>\n",
       "      <th></th>\n",
       "      <th></th>\n",
       "      <th></th>\n",
       "    </tr>\n",
       "  </thead>\n",
       "  <tbody>\n",
       "    <tr>\n",
       "      <th>pay</th>\n",
       "      <td>3505</td>\n",
       "      <td>0</td>\n",
       "      <td>3505</td>\n",
       "    </tr>\n",
       "    <tr>\n",
       "      <th>default</th>\n",
       "      <td>995</td>\n",
       "      <td>0</td>\n",
       "      <td>995</td>\n",
       "    </tr>\n",
       "    <tr>\n",
       "      <th>Total</th>\n",
       "      <td>4500</td>\n",
       "      <td>0</td>\n",
       "      <td>4500</td>\n",
       "    </tr>\n",
       "  </tbody>\n",
       "</table>\n",
       "</div>"
      ],
      "text/plain": [
       "PREDICTION   pay  default  Total\n",
       "TRUE                            \n",
       "pay         3505        0   3505\n",
       "default      995        0    995\n",
       "Total       4500        0   4500"
      ]
     },
     "execution_count": 7,
     "metadata": {},
     "output_type": "execute_result"
    }
   ],
   "source": [
    "y_pred_test = np.repeat(y_train.value_counts().idxmax(), y_test.size)\n",
    "metrics.loc['accuracy','NULL'] = accuracy_score(y_pred=y_pred_test, y_true=y_test)\n",
    "metrics.loc['precision','NULL'] = precision_score(y_pred=y_pred_test, y_true=y_test)\n",
    "metrics.loc['recall','NULL'] = recall_score(y_pred=y_pred_test, y_true=y_test)\n",
    "\n",
    "CM = confusion_matrix(y_pred=y_pred_test, y_true=y_test)\n",
    "CMatrix(CM)"
   ]
  },
  {
   "cell_type": "markdown",
   "metadata": {},
   "source": [
    "Scikit-learn Demo: steps for building a ML Model\n",
    "In scikit-learn we usually follow a fixed set of steps for building a machine learning model:\n",
    "\n",
    "1. Import the estimator object (model)\n",
    "\n",
    "2. Create an instance of the estimator\n",
    "\n",
    "3. Use the trainning data to train the estimator\n",
    "\n",
    "4. Evaluate the model\n",
    "\n",
    "5. Make predictions"
   ]
  },
  {
   "cell_type": "markdown",
   "metadata": {},
   "source": [
    "## A. Logistic Regression"
   ]
  },
  {
   "cell_type": "code",
   "execution_count": 8,
   "metadata": {},
   "outputs": [
    {
     "name": "stderr",
     "output_type": "stream",
     "text": [
      "C:\\ProgramData\\Anaconda3\\lib\\site-packages\\sklearn\\linear_model\\logistic.py:433: FutureWarning: Default solver will be changed to 'lbfgs' in 0.22. Specify a solver to silence this warning.\n",
      "  FutureWarning)\n",
      "C:\\ProgramData\\Anaconda3\\lib\\site-packages\\sklearn\\linear_model\\logistic.py:1300: UserWarning: 'n_jobs' > 1 does not have any effect when 'solver' is set to 'liblinear'. Got 'n_jobs' = 8.\n",
      "  \" = {}.\".format(effective_n_jobs(self.n_jobs)))\n"
     ]
    },
    {
     "data": {
      "text/html": [
       "<div>\n",
       "<style scoped>\n",
       "    .dataframe tbody tr th:only-of-type {\n",
       "        vertical-align: middle;\n",
       "    }\n",
       "\n",
       "    .dataframe tbody tr th {\n",
       "        vertical-align: top;\n",
       "    }\n",
       "\n",
       "    .dataframe thead th {\n",
       "        text-align: right;\n",
       "    }\n",
       "</style>\n",
       "<table border=\"1\" class=\"dataframe\">\n",
       "  <thead>\n",
       "    <tr style=\"text-align: right;\">\n",
       "      <th>PREDICTION</th>\n",
       "      <th>pay</th>\n",
       "      <th>default</th>\n",
       "      <th>Total</th>\n",
       "    </tr>\n",
       "    <tr>\n",
       "      <th>TRUE</th>\n",
       "      <th></th>\n",
       "      <th></th>\n",
       "      <th></th>\n",
       "    </tr>\n",
       "  </thead>\n",
       "  <tbody>\n",
       "    <tr>\n",
       "      <th>pay</th>\n",
       "      <td>3365</td>\n",
       "      <td>140</td>\n",
       "      <td>3505</td>\n",
       "    </tr>\n",
       "    <tr>\n",
       "      <th>default</th>\n",
       "      <td>671</td>\n",
       "      <td>324</td>\n",
       "      <td>995</td>\n",
       "    </tr>\n",
       "    <tr>\n",
       "      <th>Total</th>\n",
       "      <td>4036</td>\n",
       "      <td>464</td>\n",
       "      <td>4500</td>\n",
       "    </tr>\n",
       "  </tbody>\n",
       "</table>\n",
       "</div>"
      ],
      "text/plain": [
       "PREDICTION   pay  default  Total\n",
       "TRUE                            \n",
       "pay         3365      140   3505\n",
       "default      671      324    995\n",
       "Total       4036      464   4500"
      ]
     },
     "execution_count": 8,
     "metadata": {},
     "output_type": "execute_result"
    }
   ],
   "source": [
    "# 1. Import the estimator object (model)\n",
    "from sklearn.linear_model import LogisticRegression\n",
    "\n",
    "# 2. Create an instance of the estimator\n",
    "logistic_regression = LogisticRegression(n_jobs=-1, random_state=15)\n",
    "\n",
    "# 3. Use the trainning data to train the estimator\n",
    "logistic_regression.fit(X_train, y_train)\n",
    "\n",
    "# 4. Evaluate the model\n",
    "y_pred_test = logistic_regression.predict(X_test)\n",
    "metrics.loc['accuracy','LogisticReg'] = accuracy_score(y_pred=y_pred_test, y_true=y_test)\n",
    "metrics.loc['precision','LogisticReg'] = precision_score(y_pred=y_pred_test, y_true=y_test)\n",
    "metrics.loc['recall','LogisticReg'] = recall_score(y_pred=y_pred_test, y_true=y_test)\n",
    "#Confusion matrix\n",
    "CM = confusion_matrix(y_pred=y_pred_test, y_true=y_test)\n",
    "CMatrix(CM)"
   ]
  },
  {
   "cell_type": "markdown",
   "metadata": {},
   "source": [
    "## B. Classification Trees"
   ]
  },
  {
   "cell_type": "code",
   "execution_count": 9,
   "metadata": {},
   "outputs": [
    {
     "data": {
      "text/html": [
       "<div>\n",
       "<style scoped>\n",
       "    .dataframe tbody tr th:only-of-type {\n",
       "        vertical-align: middle;\n",
       "    }\n",
       "\n",
       "    .dataframe tbody tr th {\n",
       "        vertical-align: top;\n",
       "    }\n",
       "\n",
       "    .dataframe thead th {\n",
       "        text-align: right;\n",
       "    }\n",
       "</style>\n",
       "<table border=\"1\" class=\"dataframe\">\n",
       "  <thead>\n",
       "    <tr style=\"text-align: right;\">\n",
       "      <th>PREDICTION</th>\n",
       "      <th>pay</th>\n",
       "      <th>default</th>\n",
       "      <th>Total</th>\n",
       "    </tr>\n",
       "    <tr>\n",
       "      <th>TRUE</th>\n",
       "      <th></th>\n",
       "      <th></th>\n",
       "      <th></th>\n",
       "    </tr>\n",
       "  </thead>\n",
       "  <tbody>\n",
       "    <tr>\n",
       "      <th>pay</th>\n",
       "      <td>3185</td>\n",
       "      <td>320</td>\n",
       "      <td>3505</td>\n",
       "    </tr>\n",
       "    <tr>\n",
       "      <th>default</th>\n",
       "      <td>634</td>\n",
       "      <td>361</td>\n",
       "      <td>995</td>\n",
       "    </tr>\n",
       "    <tr>\n",
       "      <th>Total</th>\n",
       "      <td>3819</td>\n",
       "      <td>681</td>\n",
       "      <td>4500</td>\n",
       "    </tr>\n",
       "  </tbody>\n",
       "</table>\n",
       "</div>"
      ],
      "text/plain": [
       "PREDICTION   pay  default  Total\n",
       "TRUE                            \n",
       "pay         3185      320   3505\n",
       "default      634      361    995\n",
       "Total       3819      681   4500"
      ]
     },
     "execution_count": 9,
     "metadata": {},
     "output_type": "execute_result"
    }
   ],
   "source": [
    "# 1. Import the estimator object (model)\n",
    "from sklearn.tree import DecisionTreeClassifier\n",
    "\n",
    "# 2. Create an instance of the estimator\n",
    "class_tree = DecisionTreeClassifier(min_samples_split=30, min_samples_leaf=10, random_state=10)\n",
    "\n",
    "# 3. Use the trainning data to train the estimator\n",
    "class_tree.fit(X_train, y_train)\n",
    "\n",
    "# 4. Evaluate the model\n",
    "y_pred_test = class_tree.predict(X_test)\n",
    "metrics.loc['accuracy','ClassTree'] = accuracy_score(y_pred=y_pred_test, y_true=y_test)\n",
    "metrics.loc['precision','ClassTree'] = precision_score(y_pred=y_pred_test, y_true=y_test)\n",
    "metrics.loc['recall','ClassTree'] = recall_score(y_pred=y_pred_test, y_true=y_test)\n",
    "#Confusion matrix\n",
    "CM = confusion_matrix(y_pred=y_pred_test, y_true=y_test)\n",
    "CMatrix(CM)"
   ]
  },
  {
   "cell_type": "markdown",
   "metadata": {},
   "source": [
    "## C. Naive Bayes Classifier"
   ]
  },
  {
   "cell_type": "code",
   "execution_count": 10,
   "metadata": {},
   "outputs": [
    {
     "data": {
      "text/html": [
       "<div>\n",
       "<style scoped>\n",
       "    .dataframe tbody tr th:only-of-type {\n",
       "        vertical-align: middle;\n",
       "    }\n",
       "\n",
       "    .dataframe tbody tr th {\n",
       "        vertical-align: top;\n",
       "    }\n",
       "\n",
       "    .dataframe thead th {\n",
       "        text-align: right;\n",
       "    }\n",
       "</style>\n",
       "<table border=\"1\" class=\"dataframe\">\n",
       "  <thead>\n",
       "    <tr style=\"text-align: right;\">\n",
       "      <th>PREDICTION</th>\n",
       "      <th>pay</th>\n",
       "      <th>default</th>\n",
       "      <th>Total</th>\n",
       "    </tr>\n",
       "    <tr>\n",
       "      <th>TRUE</th>\n",
       "      <th></th>\n",
       "      <th></th>\n",
       "      <th></th>\n",
       "    </tr>\n",
       "  </thead>\n",
       "  <tbody>\n",
       "    <tr>\n",
       "      <th>pay</th>\n",
       "      <td>2912</td>\n",
       "      <td>593</td>\n",
       "      <td>3505</td>\n",
       "    </tr>\n",
       "    <tr>\n",
       "      <th>default</th>\n",
       "      <td>439</td>\n",
       "      <td>556</td>\n",
       "      <td>995</td>\n",
       "    </tr>\n",
       "    <tr>\n",
       "      <th>Total</th>\n",
       "      <td>3351</td>\n",
       "      <td>1149</td>\n",
       "      <td>4500</td>\n",
       "    </tr>\n",
       "  </tbody>\n",
       "</table>\n",
       "</div>"
      ],
      "text/plain": [
       "PREDICTION   pay  default  Total\n",
       "TRUE                            \n",
       "pay         2912      593   3505\n",
       "default      439      556    995\n",
       "Total       3351     1149   4500"
      ]
     },
     "execution_count": 10,
     "metadata": {},
     "output_type": "execute_result"
    }
   ],
   "source": [
    "# 1. Import the estimator object (model)\n",
    "from sklearn.naive_bayes import GaussianNB\n",
    "\n",
    "# 2. Create an instance of the estimator\n",
    "NBC = GaussianNB()\n",
    "\n",
    "# 3. Use the trainning data to train the estimator\n",
    "NBC.fit(X_train, y_train)\n",
    "\n",
    "# 4. Evaluate the model\n",
    "y_pred_test = NBC.predict(X_test)\n",
    "metrics.loc['accuracy','NaiveBayes'] = accuracy_score(y_pred=y_pred_test, y_true=y_test)\n",
    "metrics.loc['precision','NaiveBayes'] = precision_score(y_pred=y_pred_test, y_true=y_test)\n",
    "metrics.loc['recall','NaiveBayes'] = recall_score(y_pred=y_pred_test, y_true=y_test)\n",
    "\n",
    "#Confusion matrix\n",
    "CM = confusion_matrix(y_pred=y_pred_test, y_true=y_test)\n",
    "CMatrix(CM)"
   ]
  },
  {
   "cell_type": "code",
   "execution_count": 11,
   "metadata": {},
   "outputs": [
    {
     "data": {
      "text/html": [
       "<div>\n",
       "<style scoped>\n",
       "    .dataframe tbody tr th:only-of-type {\n",
       "        vertical-align: middle;\n",
       "    }\n",
       "\n",
       "    .dataframe tbody tr th {\n",
       "        vertical-align: top;\n",
       "    }\n",
       "\n",
       "    .dataframe thead th {\n",
       "        text-align: right;\n",
       "    }\n",
       "</style>\n",
       "<table border=\"1\" class=\"dataframe\">\n",
       "  <thead>\n",
       "    <tr style=\"text-align: right;\">\n",
       "      <th></th>\n",
       "      <th>NULL</th>\n",
       "      <th>LogisticReg</th>\n",
       "      <th>ClassTree</th>\n",
       "      <th>NaiveBayes</th>\n",
       "    </tr>\n",
       "  </thead>\n",
       "  <tbody>\n",
       "    <tr>\n",
       "      <th>accuracy</th>\n",
       "      <td>77.8889</td>\n",
       "      <td>81.9778</td>\n",
       "      <td>78.8</td>\n",
       "      <td>77.0667</td>\n",
       "    </tr>\n",
       "    <tr>\n",
       "      <th>precision</th>\n",
       "      <td>0</td>\n",
       "      <td>69.8276</td>\n",
       "      <td>53.0103</td>\n",
       "      <td>48.3899</td>\n",
       "    </tr>\n",
       "    <tr>\n",
       "      <th>recall</th>\n",
       "      <td>0</td>\n",
       "      <td>32.5628</td>\n",
       "      <td>36.2814</td>\n",
       "      <td>55.8794</td>\n",
       "    </tr>\n",
       "  </tbody>\n",
       "</table>\n",
       "</div>"
      ],
      "text/plain": [
       "              NULL LogisticReg ClassTree NaiveBayes\n",
       "accuracy   77.8889     81.9778      78.8    77.0667\n",
       "precision        0     69.8276   53.0103    48.3899\n",
       "recall           0     32.5628   36.2814    55.8794"
      ]
     },
     "execution_count": 11,
     "metadata": {},
     "output_type": "execute_result"
    }
   ],
   "source": [
    "100*metrics"
   ]
  },
  {
   "cell_type": "code",
   "execution_count": 12,
   "metadata": {},
   "outputs": [
    {
     "data": {
      "image/png": "[encoded data removed]",
      "text/plain": [
       "<Figure size 576x360 with 1 Axes>"
      ]
     },
     "metadata": {
      "needs_background": "light"
     },
     "output_type": "display_data"
    }
   ],
   "source": [
    "fig, ax = plt.subplots(figsize=(8,5))\n",
    "metrics.plot(kind='barh', ax=ax)\n",
    "ax.grid();"
   ]
  },
  {
   "cell_type": "code",
   "execution_count": 13,
   "metadata": {},
   "outputs": [],
   "source": [
    "precision_nb, recall_nb, thresholds_nb = precision_recall_curve(y_true=y_test, \n",
    "                                                                probas_pred=NBC.predict_proba(X_test)[:,1])\n",
    "precision_lr, recall_lr, thresholds_lr = precision_recall_curve(y_true=y_test, \n",
    "                                                                probas_pred=logistic_regression.predict_proba(X_test)[:,1])"
   ]
  },
  {
   "cell_type": "code",
   "execution_count": 14,
   "metadata": {},
   "outputs": [
    {
     "data": {
      "image/png": "[encoded data removed]",
      "text/plain": [
       "<Figure size 576x360 with 1 Axes>"
      ]
     },
     "metadata": {
      "needs_background": "light"
     },
     "output_type": "display_data"
    }
   ],
   "source": [
    "fig, ax = plt.subplots(figsize=(8,5))\n",
    "ax.plot(precision_nb, recall_nb, label='NaiveBayes')\n",
    "ax.plot(precision_lr, recall_lr, label='LogisticReg')\n",
    "ax.set_xlabel('Precision')\n",
    "ax.set_ylabel('Recall')\n",
    "ax.set_title('Precision-Recall Curve')\n",
    "ax.hlines(y=0.5, xmin=0, xmax=1, color='red')\n",
    "ax.legend()\n",
    "ax.grid();"
   ]
  },
  {
   "cell_type": "markdown",
   "metadata": {},
   "source": [
    "### Confusion matrix for modified Logistic Regression Classifier"
   ]
  },
  {
   "cell_type": "code",
   "execution_count": 15,
   "metadata": {},
   "outputs": [
    {
     "data": {
      "image/png": "[encoded data removed]",
      "text/plain": [
       "<Figure size 576x360 with 1 Axes>"
      ]
     },
     "metadata": {
      "needs_background": "light"
     },
     "output_type": "display_data"
    }
   ],
   "source": [
    "fig, ax = plt.subplots(figsize=(8,5))\n",
    "ax.plot(thresholds_lr, precision_lr[1:], label='Precision')\n",
    "ax.plot(thresholds_lr, recall_lr[1:], label='Recall')\n",
    "ax.set_xlabel('Classification Threshold')\n",
    "ax.set_ylabel('Precision, Recall')\n",
    "ax.set_title('Logistic Regression Classifier: Precision-Recall')\n",
    "ax.hlines(y=0.6, xmin=0, xmax=1, color='red')\n",
    "ax.legend()\n",
    "ax.grid();"
   ]
  },
  {
   "cell_type": "markdown",
   "metadata": {},
   "source": [
    "### Classifier with threshold of 0.2"
   ]
  },
  {
   "cell_type": "code",
   "execution_count": 16,
   "metadata": {},
   "outputs": [
    {
     "name": "stdout",
     "output_type": "stream",
     "text": [
      "Recall:  59.497487437185924\n",
      "Precision:  47.896440129449836\n"
     ]
    },
    {
     "data": {
      "text/html": [
       "<div>\n",
       "<style scoped>\n",
       "    .dataframe tbody tr th:only-of-type {\n",
       "        vertical-align: middle;\n",
       "    }\n",
       "\n",
       "    .dataframe tbody tr th {\n",
       "        vertical-align: top;\n",
       "    }\n",
       "\n",
       "    .dataframe thead th {\n",
       "        text-align: right;\n",
       "    }\n",
       "</style>\n",
       "<table border=\"1\" class=\"dataframe\">\n",
       "  <thead>\n",
       "    <tr style=\"text-align: right;\">\n",
       "      <th>PREDICTION</th>\n",
       "      <th>pay</th>\n",
       "      <th>default</th>\n",
       "      <th>Total</th>\n",
       "    </tr>\n",
       "    <tr>\n",
       "      <th>TRUE</th>\n",
       "      <th></th>\n",
       "      <th></th>\n",
       "      <th></th>\n",
       "    </tr>\n",
       "  </thead>\n",
       "  <tbody>\n",
       "    <tr>\n",
       "      <th>pay</th>\n",
       "      <td>2861</td>\n",
       "      <td>644</td>\n",
       "      <td>3505</td>\n",
       "    </tr>\n",
       "    <tr>\n",
       "      <th>default</th>\n",
       "      <td>403</td>\n",
       "      <td>592</td>\n",
       "      <td>995</td>\n",
       "    </tr>\n",
       "    <tr>\n",
       "      <th>Total</th>\n",
       "      <td>3264</td>\n",
       "      <td>1236</td>\n",
       "      <td>4500</td>\n",
       "    </tr>\n",
       "  </tbody>\n",
       "</table>\n",
       "</div>"
      ],
      "text/plain": [
       "PREDICTION   pay  default  Total\n",
       "TRUE                            \n",
       "pay         2861      644   3505\n",
       "default      403      592    995\n",
       "Total       3264     1236   4500"
      ]
     },
     "execution_count": 16,
     "metadata": {},
     "output_type": "execute_result"
    }
   ],
   "source": [
    "y_pred_proba = logistic_regression.predict_proba(X_test)[:,1]\n",
    "y_pred_test = (y_pred_proba >= 0.2).astype('int')\n",
    "#Confusion matrix\n",
    "CM = confusion_matrix(y_pred=y_pred_test, y_true=y_test)\n",
    "print(\"Recall: \", 100*recall_score(y_pred=y_pred_test, y_true=y_test))\n",
    "print(\"Precision: \", 100*precision_score(y_pred=y_pred_test, y_true=y_test))\n",
    "CMatrix(CM)"
   ]
  },
  {
   "cell_type": "markdown",
   "metadata": {},
   "source": [
    "### Making individual predictions"
   ]
  },
  {
   "cell_type": "code",
   "execution_count": 17,
   "metadata": {},
   "outputs": [],
   "source": [
    "def make_ind_prediction(new_data):\n",
    "    data = new_data.values.reshape(1, -1)\n",
    "    data = robust_scaler.transform(data)\n",
    "    prob = logistic_regression.predict_proba(data)[0][1]\n",
    "    if prob >= 0.2:\n",
    "        return 'Will default'\n",
    "    else:\n",
    "        return 'Will pay'"
   ]
  },
  {
   "cell_type": "code",
   "execution_count": 18,
   "metadata": {},
   "outputs": [
    {
     "data": {
      "text/plain": [
       "'Will default'"
      ]
     },
     "execution_count": 18,
     "metadata": {},
     "output_type": "execute_result"
    }
   ],
   "source": [
    "from collections import OrderedDict\n",
    "new_customer = OrderedDict([('limit_bal', 4000),('age', 50 ),('bill_amt1', 500),\n",
    "                            ('bill_amt2', 35509 ),('bill_amt3', 689 ),('bill_amt4', 0 ),\n",
    "                            ('bill_amt5', 0 ),('bill_amt6', 0 ), ('pay_amt1', 0 ),('pay_amt2', 35509 ),\n",
    "                            ('pay_amt3', 0 ),('pay_amt4', 0 ),('pay_amt5', 0 ), ('pay_amt6', 0 ),\n",
    "                            ('male', 1 ),('grad_school', 0 ),('university', 1 ), ('high_school', 0 ),\n",
    "                            ('married', 1 ),('pay_0', -1 ),('pay_2', -1 ),('pay_3', -1 ),\n",
    "                            ('pay_4', 0),('pay_5', -1), ('pay_6', 0)])\n",
    "\n",
    "new_customer = pd.Series(new_customer)\n",
    "make_ind_prediction(new_customer)"
   ]
  },
  {
   "cell_type": "code",
   "execution_count": null,
   "metadata": {},
   "outputs": [],
   "source": []
  },
  {
   "cell_type": "code",
   "execution_count": null,
   "metadata": {},
   "outputs": [],
   "source": []
  }
 ],
 "metadata": {
  "kernelspec": {
   "display_name": "Python 3",
   "language": "python",
   "name": "python3"
  },
  "language_info": {
   "codemirror_mode": {
    "name": "ipython",
    "version": 3
   },
   "file_extension": ".py",
   "mimetype": "text/x-python",
   "name": "python",
   "nbconvert_exporter": "python",
   "pygments_lexer": "ipython3",
   "version": "3.6.8"
  }
 },
 "nbformat": 4,
 "nbformat_minor": 2
}
